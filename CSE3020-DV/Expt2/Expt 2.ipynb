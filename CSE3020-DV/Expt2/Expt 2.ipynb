{
 "cells": [
  {
   "cell_type": "markdown",
   "metadata": {},
   "source": [
    "# STATISTICAL ANALYSIS"
   ]
  },
  {
   "cell_type": "code",
   "execution_count": 1,
   "metadata": {},
   "outputs": [],
   "source": [
    "# importing libraries\n",
    "import numpy as np\n",
    "import pandas as pd\n",
    "import matplotlib.pyplot as plt\n",
    "import seaborn as sns\n",
    "import copy\n",
    "%matplotlib inline"
   ]
  },
  {
   "cell_type": "code",
   "execution_count": 2,
   "metadata": {},
   "outputs": [
    {
     "data": {
      "text/html": [
       "<div>\n",
       "<style scoped>\n",
       "    .dataframe tbody tr th:only-of-type {\n",
       "        vertical-align: middle;\n",
       "    }\n",
       "\n",
       "    .dataframe tbody tr th {\n",
       "        vertical-align: top;\n",
       "    }\n",
       "\n",
       "    .dataframe thead th {\n",
       "        text-align: right;\n",
       "    }\n",
       "</style>\n",
       "<table border=\"1\" class=\"dataframe\">\n",
       "  <thead>\n",
       "    <tr style=\"text-align: right;\">\n",
       "      <th></th>\n",
       "      <th>dt</th>\n",
       "      <th>LandAverageTemperature</th>\n",
       "      <th>LandAverageTemperatureUncertainty</th>\n",
       "      <th>LandMaxTemperature</th>\n",
       "      <th>LandMaxTemperatureUncertainty</th>\n",
       "      <th>LandMinTemperature</th>\n",
       "      <th>LandMinTemperatureUncertainty</th>\n",
       "      <th>LandAndOceanAverageTemperature</th>\n",
       "      <th>LandAndOceanAverageTemperatureUncertainty</th>\n",
       "    </tr>\n",
       "  </thead>\n",
       "  <tbody>\n",
       "    <tr>\n",
       "      <th>1200</th>\n",
       "      <td>1850-01-01</td>\n",
       "      <td>0.749</td>\n",
       "      <td>1.105</td>\n",
       "      <td>8.242</td>\n",
       "      <td>1.738</td>\n",
       "      <td>-3.206</td>\n",
       "      <td>2.822</td>\n",
       "      <td>12.833</td>\n",
       "      <td>0.367</td>\n",
       "    </tr>\n",
       "    <tr>\n",
       "      <th>1201</th>\n",
       "      <td>1850-02-01</td>\n",
       "      <td>3.071</td>\n",
       "      <td>1.275</td>\n",
       "      <td>9.970</td>\n",
       "      <td>3.007</td>\n",
       "      <td>-2.291</td>\n",
       "      <td>1.623</td>\n",
       "      <td>13.588</td>\n",
       "      <td>0.414</td>\n",
       "    </tr>\n",
       "    <tr>\n",
       "      <th>1202</th>\n",
       "      <td>1850-03-01</td>\n",
       "      <td>4.954</td>\n",
       "      <td>0.955</td>\n",
       "      <td>10.347</td>\n",
       "      <td>2.401</td>\n",
       "      <td>-1.905</td>\n",
       "      <td>1.410</td>\n",
       "      <td>14.043</td>\n",
       "      <td>0.341</td>\n",
       "    </tr>\n",
       "    <tr>\n",
       "      <th>1203</th>\n",
       "      <td>1850-04-01</td>\n",
       "      <td>7.217</td>\n",
       "      <td>0.665</td>\n",
       "      <td>12.934</td>\n",
       "      <td>1.004</td>\n",
       "      <td>1.018</td>\n",
       "      <td>1.329</td>\n",
       "      <td>14.667</td>\n",
       "      <td>0.267</td>\n",
       "    </tr>\n",
       "    <tr>\n",
       "      <th>1204</th>\n",
       "      <td>1850-05-01</td>\n",
       "      <td>10.004</td>\n",
       "      <td>0.617</td>\n",
       "      <td>15.655</td>\n",
       "      <td>2.406</td>\n",
       "      <td>3.811</td>\n",
       "      <td>1.347</td>\n",
       "      <td>15.507</td>\n",
       "      <td>0.249</td>\n",
       "    </tr>\n",
       "  </tbody>\n",
       "</table>\n",
       "</div>"
      ],
      "text/plain": [
       "              dt  LandAverageTemperature  LandAverageTemperatureUncertainty  \\\n",
       "1200  1850-01-01                   0.749                              1.105   \n",
       "1201  1850-02-01                   3.071                              1.275   \n",
       "1202  1850-03-01                   4.954                              0.955   \n",
       "1203  1850-04-01                   7.217                              0.665   \n",
       "1204  1850-05-01                  10.004                              0.617   \n",
       "\n",
       "      LandMaxTemperature  LandMaxTemperatureUncertainty  LandMinTemperature  \\\n",
       "1200               8.242                          1.738              -3.206   \n",
       "1201               9.970                          3.007              -2.291   \n",
       "1202              10.347                          2.401              -1.905   \n",
       "1203              12.934                          1.004               1.018   \n",
       "1204              15.655                          2.406               3.811   \n",
       "\n",
       "      LandMinTemperatureUncertainty  LandAndOceanAverageTemperature  \\\n",
       "1200                          2.822                          12.833   \n",
       "1201                          1.623                          13.588   \n",
       "1202                          1.410                          14.043   \n",
       "1203                          1.329                          14.667   \n",
       "1204                          1.347                          15.507   \n",
       "\n",
       "      LandAndOceanAverageTemperatureUncertainty  \n",
       "1200                                      0.367  \n",
       "1201                                      0.414  \n",
       "1202                                      0.341  \n",
       "1203                                      0.267  \n",
       "1204                                      0.249  "
      ]
     },
     "execution_count": 2,
     "metadata": {},
     "output_type": "execute_result"
    }
   ],
   "source": [
    "gt = pd.read_csv('GlobalTemperatures.csv')\n",
    "gt.dropna(inplace = True)\n",
    "gt.head()"
   ]
  },
  {
   "cell_type": "code",
   "execution_count": 3,
   "metadata": {},
   "outputs": [
    {
     "name": "stdout",
     "output_type": "stream",
     "text": [
      "dt                                           0\n",
      "LandAverageTemperature                       0\n",
      "LandAverageTemperatureUncertainty            0\n",
      "LandMaxTemperature                           0\n",
      "LandMaxTemperatureUncertainty                0\n",
      "LandMinTemperature                           0\n",
      "LandMinTemperatureUncertainty                0\n",
      "LandAndOceanAverageTemperature               0\n",
      "LandAndOceanAverageTemperatureUncertainty    0\n",
      "dtype: int64\n"
     ]
    }
   ],
   "source": [
    "print(gt.isnull().sum())"
   ]
  },
  {
   "cell_type": "code",
   "execution_count": 4,
   "metadata": {},
   "outputs": [
    {
     "name": "stdout",
     "output_type": "stream",
     "text": [
      "<class 'pandas.core.frame.DataFrame'>\n",
      "Int64Index: 1992 entries, 1200 to 3191\n",
      "Data columns (total 9 columns):\n",
      " #   Column                                     Non-Null Count  Dtype  \n",
      "---  ------                                     --------------  -----  \n",
      " 0   dt                                         1992 non-null   object \n",
      " 1   LandAverageTemperature                     1992 non-null   float64\n",
      " 2   LandAverageTemperatureUncertainty          1992 non-null   float64\n",
      " 3   LandMaxTemperature                         1992 non-null   float64\n",
      " 4   LandMaxTemperatureUncertainty              1992 non-null   float64\n",
      " 5   LandMinTemperature                         1992 non-null   float64\n",
      " 6   LandMinTemperatureUncertainty              1992 non-null   float64\n",
      " 7   LandAndOceanAverageTemperature             1992 non-null   float64\n",
      " 8   LandAndOceanAverageTemperatureUncertainty  1992 non-null   float64\n",
      "dtypes: float64(8), object(1)\n",
      "memory usage: 155.6+ KB\n"
     ]
    }
   ],
   "source": [
    "gt.info()"
   ]
  },
  {
   "cell_type": "code",
   "execution_count": 5,
   "metadata": {
    "scrolled": true
   },
   "outputs": [
    {
     "data": {
      "text/plain": [
       "Index(['dt', 'LandAverageTemperature', 'LandAverageTemperatureUncertainty',\n",
       "       'LandMaxTemperature', 'LandMaxTemperatureUncertainty',\n",
       "       'LandMinTemperature', 'LandMinTemperatureUncertainty',\n",
       "       'LandAndOceanAverageTemperature',\n",
       "       'LandAndOceanAverageTemperatureUncertainty'],\n",
       "      dtype='object')"
      ]
     },
     "execution_count": 5,
     "metadata": {},
     "output_type": "execute_result"
    }
   ],
   "source": [
    "columns = gt.columns\n",
    "columns"
   ]
  },
  {
   "cell_type": "markdown",
   "metadata": {},
   "source": [
    "## COVARIANCE"
   ]
  },
  {
   "cell_type": "code",
   "execution_count": 6,
   "metadata": {},
   "outputs": [],
   "source": [
    "def covariance(a, b):\n",
    "    if len(a) != len(b):\n",
    "        return\n",
    "\n",
    "    a_mean = np.mean(a)\n",
    "    b_mean = np.mean(b)\n",
    "\n",
    "    sum = 0\n",
    "    for i in range(0, len(a)):\n",
    "        sum += ((a[i] - a_mean) * (b[i] - b_mean))\n",
    "\n",
    "    return sum/(len(a)-1)"
   ]
  },
  {
   "cell_type": "code",
   "execution_count": 7,
   "metadata": {},
   "outputs": [
    {
     "name": "stdout",
     "output_type": "stream",
     "text": [
      "[[ 1.81748118e+01 -1.36699347e-01  1.82955323e+01 -2.69670225e-01\n",
      "   1.76393578e+01 -3.18273449e-01  5.36687949e+00 -4.12259185e-02]\n",
      " [-1.36699347e-01  5.01892292e-02 -1.28316115e-01  1.13270297e-01\n",
      "  -1.53681120e-01  8.87657928e-02 -5.93726202e-02  1.60306914e-02]\n",
      " [ 1.82955323e+01 -1.28316115e-01  1.85724709e+01 -2.64779168e-01\n",
      "   1.77917613e+01 -3.07457662e-01  5.40215576e+00 -3.82338955e-02]\n",
      " [-2.69670225e-01  1.13270297e-01 -2.64779168e-01  3.40125690e-01\n",
      "  -2.98722006e-01  2.25874580e-01 -1.21412400e-01  3.69260475e-02]\n",
      " [ 1.76393578e+01 -1.53681120e-01  1.77917613e+01 -2.98722006e-01\n",
      "   1.72709672e+01 -3.43721021e-01  5.22292154e+00 -4.73801407e-02]\n",
      " [-3.18273449e-01  8.87657928e-02 -3.07457662e-01  2.25874580e-01\n",
      "  -3.43721021e-01  1.98771377e-01 -1.25960453e-01  2.88728675e-02]\n",
      " [ 5.36687949e+00 -5.93726202e-02  5.40215576e+00 -1.21412400e-01\n",
      "   5.22292154e+00 -1.25960453e-01  1.62331286e+00 -1.90392615e-02]\n",
      " [-4.12259185e-02  1.60306914e-02 -3.82338955e-02  3.69260475e-02\n",
      "  -4.73801407e-02  2.88728675e-02 -1.90392615e-02  5.41501655e-03]]\n",
      "\n",
      "\n",
      "[[ 1.81748118e+01 -1.36699347e-01  1.82955323e+01 -2.69670225e-01\n",
      "   1.76393578e+01 -3.18273449e-01  5.36687949e+00 -4.12259185e-02]\n",
      " [-1.36699347e-01  5.01892292e-02 -1.28316115e-01  1.13270297e-01\n",
      "  -1.53681120e-01  8.87657928e-02 -5.93726202e-02  1.60306914e-02]\n",
      " [ 1.82955323e+01 -1.28316115e-01  1.85724709e+01 -2.64779168e-01\n",
      "   1.77917613e+01 -3.07457662e-01  5.40215576e+00 -3.82338955e-02]\n",
      " [-2.69670225e-01  1.13270297e-01 -2.64779168e-01  3.40125690e-01\n",
      "  -2.98722006e-01  2.25874580e-01 -1.21412400e-01  3.69260475e-02]\n",
      " [ 1.76393578e+01 -1.53681120e-01  1.77917613e+01 -2.98722006e-01\n",
      "   1.72709672e+01 -3.43721021e-01  5.22292154e+00 -4.73801407e-02]\n",
      " [-3.18273449e-01  8.87657928e-02 -3.07457662e-01  2.25874580e-01\n",
      "  -3.43721021e-01  1.98771377e-01 -1.25960453e-01  2.88728675e-02]\n",
      " [ 5.36687949e+00 -5.93726202e-02  5.40215576e+00 -1.21412400e-01\n",
      "   5.22292154e+00 -1.25960453e-01  1.62331286e+00 -1.90392615e-02]\n",
      " [-4.12259185e-02  1.60306914e-02 -3.82338955e-02  3.69260475e-02\n",
      "  -4.73801407e-02  2.88728675e-02 -1.90392615e-02  5.41501655e-03]]\n"
     ]
    }
   ],
   "source": [
    "# this covariance is calculated without scaling the dataset\n",
    "# but nan values have been dropped\n",
    "\n",
    "cov_gt = np.zeros((8, 8), dtype = float)\n",
    "x = 0\n",
    "arr = np.array(gt[columns[1:]]).transpose()\n",
    "# print(len(arr[0]))\n",
    "for col1 in arr:\n",
    "    y = 0\n",
    "    for col2 in arr:\n",
    "        cov_gt[x][y] = covariance(col1, col2)\n",
    "        y += 1\n",
    "    x += 1\n",
    "    \n",
    "print(cov_gt) # == np.cov(arr))\n",
    "print(\"\\n\")\n",
    "print(np.cov(arr))"
   ]
  },
  {
   "cell_type": "code",
   "execution_count": 8,
   "metadata": {},
   "outputs": [
    {
     "data": {
      "image/png": "[encoded data removed]",
      "text/plain": [
       "<Figure size 432x288 with 2 Axes>"
      ]
     },
     "metadata": {
      "needs_background": "light"
     },
     "output_type": "display_data"
    }
   ],
   "source": [
    "fig = plt.figure()\n",
    "ax = fig.add_axes([0, 0, 1, 1])\n",
    "sns.heatmap(pd.DataFrame(cov_gt), annot=True)\n",
    "fig.savefig('covariance_heatmap_scratch.png', bbox_inches = 'tight')"
   ]
  },
  {
   "cell_type": "markdown",
   "metadata": {},
   "source": [
    "## CORRELATION"
   ]
  },
  {
   "cell_type": "code",
   "execution_count": 13,
   "metadata": {},
   "outputs": [],
   "source": [
    "def correlation(a, b):\n",
    "    c = covariance(a, b)\n",
    "    std_a = np.std(a)\n",
    "    std_b = np.std(b)\n",
    "    corrn = c/(std_a * std_b)\n",
    "    return corrn"
   ]
  },
  {
   "cell_type": "code",
   "execution_count": 16,
   "metadata": {},
   "outputs": [
    {
     "name": "stdout",
     "output_type": "stream",
     "text": [
      "[[ 1.00050226 -0.14320042  0.99630732 -0.10851665  0.99611058 -0.16753541\n",
      "   0.98856184 -0.13147814]\n",
      " [-0.14320042  1.00050226 -0.13297168  0.86737946 -0.16514864  0.88916329\n",
      "  -0.20811238  0.97289321]\n",
      " [ 0.99630732 -0.13297168  1.00050226 -0.10540163  0.99390264 -0.16010011\n",
      "   0.98434926 -0.12062349]\n",
      " [-0.10851665  0.86737946 -0.10540163  1.00050226 -0.12331254  0.86913811\n",
      "  -0.16347837  0.86085754]\n",
      " [ 0.99611058 -0.16514864  0.99390264 -0.12331254  1.00050226 -0.18560468\n",
      "   0.98689769 -0.15500874]\n",
      " [-0.16753541  0.88916329 -0.16010011  0.86913811 -0.18560468  1.00050226\n",
      "  -0.22185757  0.88050368]\n",
      " [ 0.98856184 -0.20811238  0.98434926 -0.16347837  0.98689769 -0.22185757\n",
      "   1.00050226 -0.20317355]\n",
      " [-0.13147814  0.97289321 -0.12062349  0.86085754 -0.15500874  0.88050368\n",
      "  -0.20317355  1.00050226]]\n",
      "\n",
      "\n",
      "[[ 1.         -0.14312853  0.99580716 -0.10846218  0.99561052 -0.1674513\n",
      "   0.98806558 -0.13141214]\n",
      " [-0.14312853  1.         -0.13290493  0.86694403 -0.16506573  0.88871692\n",
      "  -0.2080079   0.97240481]\n",
      " [ 0.99580716 -0.13290493  1.         -0.10534872  0.99340369 -0.16001974\n",
      "   0.98385511 -0.12056294]\n",
      " [-0.10846218  0.86694403 -0.10534872  1.         -0.12325064  0.86870179\n",
      "  -0.1633963   0.86042538]\n",
      " [ 0.99561052 -0.16506573  0.99340369 -0.12325064  1.         -0.1855115\n",
      "   0.98640226 -0.15493093]\n",
      " [-0.1674513   0.88871692 -0.16001974  0.86870179 -0.1855115   1.\n",
      "  -0.22174619  0.88006166]\n",
      " [ 0.98806558 -0.2080079   0.98385511 -0.1633963   0.98640226 -0.22174619\n",
      "   1.         -0.20307155]\n",
      " [-0.13141214  0.97240481 -0.12056294  0.86042538 -0.15493093  0.88006166\n",
      "  -0.20307155  1.        ]]\n"
     ]
    }
   ],
   "source": [
    "corr_gt = np.zeros((8, 8), dtype = float)\n",
    "x = 0\n",
    "arr = np.array(gt[columns[1:]]).transpose()\n",
    "# print(len(arr[0]))\n",
    "for col1 in arr:\n",
    "    y = 0\n",
    "    for col2 in arr:\n",
    "        corr_gt[x][y] = correlation(col1, col2)\n",
    "        y += 1\n",
    "    x += 1\n",
    "    \n",
    "print(corr_gt) # == np.cov(arr))\n",
    "print(\"\\n\")\n",
    "print(np.array(gt[columns[1:]].corr()))"
   ]
  },
  {
   "cell_type": "code",
   "execution_count": 17,
   "metadata": {},
   "outputs": [
    {
     "data": {
      "image/png": "[encoded data removed]",
      "text/plain": [
       "<Figure size 432x288 with 2 Axes>"
      ]
     },
     "metadata": {
      "needs_background": "light"
     },
     "output_type": "display_data"
    }
   ],
   "source": [
    "fig = plt.figure()\n",
    "ax = fig.add_axes([0, 0, 1, 1])\n",
    "sns.heatmap(pd.DataFrame(corr_gt), annot=True)\n",
    "fig.savefig('correlation_heatmap_scratch.png', bbox_inches = 'tight')"
   ]
  },
  {
   "cell_type": "markdown",
   "metadata": {},
   "source": [
    "## PCA"
   ]
  },
  {
   "cell_type": "code",
   "execution_count": 9,
   "metadata": {},
   "outputs": [
    {
     "data": {
      "text/html": [
       "<div>\n",
       "<style scoped>\n",
       "    .dataframe tbody tr th:only-of-type {\n",
       "        vertical-align: middle;\n",
       "    }\n",
       "\n",
       "    .dataframe tbody tr th {\n",
       "        vertical-align: top;\n",
       "    }\n",
       "\n",
       "    .dataframe thead th {\n",
       "        text-align: right;\n",
       "    }\n",
       "</style>\n",
       "<table border=\"1\" class=\"dataframe\">\n",
       "  <thead>\n",
       "    <tr style=\"text-align: right;\">\n",
       "      <th></th>\n",
       "      <th>0</th>\n",
       "      <th>1</th>\n",
       "      <th>2</th>\n",
       "      <th>3</th>\n",
       "      <th>4</th>\n",
       "      <th>5</th>\n",
       "      <th>6</th>\n",
       "      <th>7</th>\n",
       "    </tr>\n",
       "  </thead>\n",
       "  <tbody>\n",
       "    <tr>\n",
       "      <th>0</th>\n",
       "      <td>-1.835373</td>\n",
       "      <td>3.698376</td>\n",
       "      <td>-1.417803</td>\n",
       "      <td>2.157970</td>\n",
       "      <td>-1.431984</td>\n",
       "      <td>5.362379</td>\n",
       "      <td>-1.868124</td>\n",
       "      <td>3.241448</td>\n",
       "    </tr>\n",
       "    <tr>\n",
       "      <th>1</th>\n",
       "      <td>-1.290574</td>\n",
       "      <td>4.457395</td>\n",
       "      <td>-1.016735</td>\n",
       "      <td>4.334431</td>\n",
       "      <td>-1.211756</td>\n",
       "      <td>2.672385</td>\n",
       "      <td>-1.275396</td>\n",
       "      <td>3.880310</td>\n",
       "    </tr>\n",
       "    <tr>\n",
       "      <th>2</th>\n",
       "      <td>-0.848775</td>\n",
       "      <td>3.028653</td>\n",
       "      <td>-0.929234</td>\n",
       "      <td>3.295081</td>\n",
       "      <td>-1.118852</td>\n",
       "      <td>2.194513</td>\n",
       "      <td>-0.918190</td>\n",
       "      <td>2.888035</td>\n",
       "    </tr>\n",
       "    <tr>\n",
       "      <th>3</th>\n",
       "      <td>-0.317819</td>\n",
       "      <td>1.733856</td>\n",
       "      <td>-0.328792</td>\n",
       "      <td>0.899087</td>\n",
       "      <td>-0.415327</td>\n",
       "      <td>2.012786</td>\n",
       "      <td>-0.428307</td>\n",
       "      <td>1.882167</td>\n",
       "    </tr>\n",
       "    <tr>\n",
       "      <th>4</th>\n",
       "      <td>0.336081</td>\n",
       "      <td>1.519544</td>\n",
       "      <td>0.302750</td>\n",
       "      <td>3.303656</td>\n",
       "      <td>0.256909</td>\n",
       "      <td>2.053170</td>\n",
       "      <td>0.231151</td>\n",
       "      <td>1.637496</td>\n",
       "    </tr>\n",
       "    <tr>\n",
       "      <th>...</th>\n",
       "      <td>...</td>\n",
       "      <td>...</td>\n",
       "      <td>...</td>\n",
       "      <td>...</td>\n",
       "      <td>...</td>\n",
       "      <td>...</td>\n",
       "      <td>...</td>\n",
       "      <td>...</td>\n",
       "    </tr>\n",
       "    <tr>\n",
       "      <th>1987</th>\n",
       "      <td>1.450784</td>\n",
       "      <td>-0.913782</td>\n",
       "      <td>1.473460</td>\n",
       "      <td>-0.634212</td>\n",
       "      <td>1.507032</td>\n",
       "      <td>-0.587466</td>\n",
       "      <td>1.865665</td>\n",
       "      <td>-0.972322</td>\n",
       "    </tr>\n",
       "    <tr>\n",
       "      <th>1988</th>\n",
       "      <td>1.038782</td>\n",
       "      <td>-0.882528</td>\n",
       "      <td>1.043148</td>\n",
       "      <td>-0.671944</td>\n",
       "      <td>1.072353</td>\n",
       "      <td>-0.455098</td>\n",
       "      <td>1.441728</td>\n",
       "      <td>-0.958730</td>\n",
       "    </tr>\n",
       "    <tr>\n",
       "      <th>1989</th>\n",
       "      <td>0.523077</td>\n",
       "      <td>-0.779837</td>\n",
       "      <td>0.487269</td>\n",
       "      <td>-0.721682</td>\n",
       "      <td>0.598924</td>\n",
       "      <td>-0.710860</td>\n",
       "      <td>0.845860</td>\n",
       "      <td>-0.904358</td>\n",
       "    </tr>\n",
       "    <tr>\n",
       "      <th>1990</th>\n",
       "      <td>-0.267140</td>\n",
       "      <td>-0.703935</td>\n",
       "      <td>-0.338541</td>\n",
       "      <td>-0.663369</td>\n",
       "      <td>-0.141185</td>\n",
       "      <td>-0.731052</td>\n",
       "      <td>0.030959</td>\n",
       "      <td>-0.890766</td>\n",
       "    </tr>\n",
       "    <tr>\n",
       "      <th>1991</th>\n",
       "      <td>-0.716447</td>\n",
       "      <td>-0.788767</td>\n",
       "      <td>-0.841500</td>\n",
       "      <td>-0.558748</td>\n",
       "      <td>-0.591268</td>\n",
       "      <td>-0.746757</td>\n",
       "      <td>-0.344304</td>\n",
       "      <td>-0.904358</td>\n",
       "    </tr>\n",
       "  </tbody>\n",
       "</table>\n",
       "<p>1992 rows × 8 columns</p>\n",
       "</div>"
      ],
      "text/plain": [
       "             0         1         2         3         4         5         6  \\\n",
       "0    -1.835373  3.698376 -1.417803  2.157970 -1.431984  5.362379 -1.868124   \n",
       "1    -1.290574  4.457395 -1.016735  4.334431 -1.211756  2.672385 -1.275396   \n",
       "2    -0.848775  3.028653 -0.929234  3.295081 -1.118852  2.194513 -0.918190   \n",
       "3    -0.317819  1.733856 -0.328792  0.899087 -0.415327  2.012786 -0.428307   \n",
       "4     0.336081  1.519544  0.302750  3.303656  0.256909  2.053170  0.231151   \n",
       "...        ...       ...       ...       ...       ...       ...       ...   \n",
       "1987  1.450784 -0.913782  1.473460 -0.634212  1.507032 -0.587466  1.865665   \n",
       "1988  1.038782 -0.882528  1.043148 -0.671944  1.072353 -0.455098  1.441728   \n",
       "1989  0.523077 -0.779837  0.487269 -0.721682  0.598924 -0.710860  0.845860   \n",
       "1990 -0.267140 -0.703935 -0.338541 -0.663369 -0.141185 -0.731052  0.030959   \n",
       "1991 -0.716447 -0.788767 -0.841500 -0.558748 -0.591268 -0.746757 -0.344304   \n",
       "\n",
       "             7  \n",
       "0     3.241448  \n",
       "1     3.880310  \n",
       "2     2.888035  \n",
       "3     1.882167  \n",
       "4     1.637496  \n",
       "...        ...  \n",
       "1987 -0.972322  \n",
       "1988 -0.958730  \n",
       "1989 -0.904358  \n",
       "1990 -0.890766  \n",
       "1991 -0.904358  \n",
       "\n",
       "[1992 rows x 8 columns]"
      ]
     },
     "execution_count": 9,
     "metadata": {},
     "output_type": "execute_result"
    }
   ],
   "source": [
    "from sklearn.preprocessing import StandardScaler\n",
    "gt_sdt = StandardScaler().fit_transform(gt[columns[1:]])\n",
    "gt_scaled = pd.DataFrame(StandardScaler().fit_transform(gt[columns[1:]]))\n",
    "gt_scaled"
   ]
  },
  {
   "cell_type": "code",
   "execution_count": 10,
   "metadata": {},
   "outputs": [
    {
     "data": {
      "text/plain": [
       "array([ 8.57158283,  0.27666265, 14.3506009 ,  0.47978163,  2.74359538,\n",
       "        0.4318489 , 15.21256576,  0.12853213])"
      ]
     },
     "execution_count": 10,
     "metadata": {},
     "output_type": "execute_result"
    }
   ],
   "source": [
    "gt_arr = np.array(gt[columns[1:]])\n",
    "mean = np.mean(gt_arr, axis=0)\n",
    "mean\n",
    "#nan values are ignored with sklearn so we can do the same"
   ]
  },
  {
   "cell_type": "code",
   "execution_count": 11,
   "metadata": {},
   "outputs": [
    {
     "data": {
      "image/png": "[encoded data removed]",
      "text/plain": [
       "<Figure size 432x288 with 2 Axes>"
      ]
     },
     "metadata": {
      "needs_background": "light"
     },
     "output_type": "display_data"
    }
   ],
   "source": [
    "features = gt_sdt.T\n",
    "cov_matrix = np.cov(features)\n",
    "c = pd.DataFrame(cov_matrix)\n",
    "\n",
    "fig = plt.figure()\n",
    "ax = fig.add_axes([0, 0, 1, 1])\n",
    "sns.heatmap(c, annot=True)\n",
    "fig.savefig('covariance_heatmap.png', bbox_inches = 'tight')"
   ]
  },
  {
   "cell_type": "code",
   "execution_count": 12,
   "metadata": {},
   "outputs": [
    {
     "name": "stdout",
     "output_type": "stream",
     "text": [
      "[4.46651682e+00 3.18347024e+00 1.77453809e-01 1.25237144e-01\n",
      " 2.83359905e-02 1.41197901e-02 3.17441376e-03 5.70987045e-03]\n",
      "\n",
      "\n",
      "[[-3.88372578e-01 -3.19054038e-01  2.01405721e-02 -5.66399735e-04\n",
      "  -6.47629246e-02  1.32165675e-01 -8.51609009e-01  8.08647040e-03]\n",
      " [ 3.15770271e-01 -3.97734760e-01  4.43170938e-01  1.25497688e-01\n",
      "   7.13414434e-01  1.43846268e-01 -1.65687360e-02 -4.42959816e-03]\n",
      " [-3.85583349e-01 -3.22374208e-01  5.41976212e-02 -1.14395136e-02\n",
      "  -1.02485868e-01  3.24679898e-01  3.49335574e-01 -7.11601274e-01]\n",
      " [ 2.92740257e-01 -3.95545763e-01 -6.90870158e-01  5.28252697e-01\n",
      "  -1.58131824e-02  8.70233926e-03  2.25824450e-04 -3.41813592e-02]\n",
      " [-3.93463236e-01 -3.08970319e-01 -1.51996359e-02  4.55192278e-03\n",
      "  -4.88713428e-02  3.57743364e-01  3.60706627e-01  6.99281260e-01]\n",
      " [ 3.16978937e-01 -3.77225813e-01 -2.78418184e-01 -8.23470327e-01\n",
      "  -3.62137787e-02  1.65555572e-02 -3.92425707e-03  2.01284623e-03]\n",
      " [-4.03612418e-01 -2.86447544e-01 -4.93704194e-02 -3.46052614e-02\n",
      "   2.25333093e-01 -8.24301453e-01  1.45250595e-01  8.01469359e-03]\n",
      " [ 3.11275683e-01 -3.99769727e-01  4.92716721e-01  1.60457508e-01\n",
      "  -6.49320684e-01 -2.20500413e-01  3.50681032e-02  5.75124395e-02]]\n"
     ]
    }
   ],
   "source": [
    "values, vectors = np.linalg.eig(cov_matrix)\n",
    "print(values)\n",
    "print(\"\\n\")\n",
    "print(vectors)"
   ]
  },
  {
   "cell_type": "code",
   "execution_count": 19,
   "metadata": {},
   "outputs": [
    {
     "name": "stdout",
     "output_type": "stream",
     "text": [
      "[[ 3.88372578e-01  3.19054038e-01 -2.01405721e-02  5.66399735e-04\n",
      "  -6.47629246e-02 -1.32165675e-01  8.51609009e-01 -8.08647040e-03]\n",
      " [-3.15770271e-01  3.97734760e-01 -4.43170938e-01 -1.25497688e-01\n",
      "   7.13414434e-01 -1.43846268e-01  1.65687360e-02  4.42959816e-03]\n",
      " [ 3.85583349e-01  3.22374208e-01 -5.41976212e-02  1.14395136e-02\n",
      "  -1.02485868e-01 -3.24679898e-01 -3.49335574e-01  7.11601274e-01]\n",
      " [-2.92740257e-01  3.95545763e-01  6.90870158e-01 -5.28252697e-01\n",
      "  -1.58131824e-02 -8.70233926e-03 -2.25824450e-04  3.41813592e-02]\n",
      " [-3.93463236e-01 -3.08970319e-01 -1.51996359e-02  4.55192278e-03\n",
      "   4.88713428e-02  3.57743364e-01  3.60706627e-01  6.99281260e-01]\n",
      " [-3.16978937e-01  3.77225813e-01  2.78418184e-01  8.23470327e-01\n",
      "  -3.62137787e-02 -1.65555572e-02  3.92425707e-03 -2.01284623e-03]\n",
      " [ 4.03612418e-01  2.86447544e-01  4.93704194e-02  3.46052614e-02\n",
      "   2.25333093e-01  8.24301453e-01 -1.45250595e-01 -8.01469359e-03]\n",
      " [ 3.11275683e-01 -3.99769727e-01  4.92716721e-01  1.60457508e-01\n",
      "   6.49320684e-01 -2.20500413e-01  3.50681032e-02  5.75124395e-02]]\n"
     ]
    }
   ],
   "source": [
    "max_abs_idx = np.argmax(np.abs(vectors), axis=0)\n",
    "# print(max_abs_idx)\n",
    "signs = np.sign(vectors[max_abs_idx, range(vectors.shape[0])])\n",
    "# print(signs)\n",
    "vectors = vectors*signs[np.newaxis,:]\n",
    "# print(vectors)\n",
    "vectors = vectors.T\n",
    "print(vectors)"
   ]
  },
  {
   "cell_type": "code",
   "execution_count": 21,
   "metadata": {},
   "outputs": [
    {
     "name": "stdout",
     "output_type": "stream",
     "text": [
      "1.0 \n",
      " [0.55803432420026, 0.39773401439058115, 0.02217059074192478, 0.015646784210716462, 0.003540220694728631, 0.0017640877331766233, 0.0003966025220495761, 0.0007133755065627644]\n"
     ]
    }
   ],
   "source": [
    "explained_variances = []\n",
    "for i in range(len(values)):\n",
    "    explained_variances.append(values[i] / np.sum(values))\n",
    " \n",
    "print(np.sum(explained_variances), \"\\n\", explained_variances)"
   ]
  },
  {
   "cell_type": "code",
   "execution_count": 26,
   "metadata": {},
   "outputs": [
    {
     "data": {
      "text/html": [
       "<div>\n",
       "<style scoped>\n",
       "    .dataframe tbody tr th:only-of-type {\n",
       "        vertical-align: middle;\n",
       "    }\n",
       "\n",
       "    .dataframe tbody tr th {\n",
       "        vertical-align: top;\n",
       "    }\n",
       "\n",
       "    .dataframe thead th {\n",
       "        text-align: right;\n",
       "    }\n",
       "</style>\n",
       "<table border=\"1\" class=\"dataframe\">\n",
       "  <thead>\n",
       "    <tr style=\"text-align: right;\">\n",
       "      <th></th>\n",
       "      <th>PC1</th>\n",
       "      <th>PC2</th>\n",
       "      <th>Date</th>\n",
       "    </tr>\n",
       "  </thead>\n",
       "  <tbody>\n",
       "    <tr>\n",
       "      <th>0</th>\n",
       "      <td>-3.940393</td>\n",
       "      <td>1.916218</td>\n",
       "      <td>NaN</td>\n",
       "    </tr>\n",
       "    <tr>\n",
       "      <th>1</th>\n",
       "      <td>-3.246863</td>\n",
       "      <td>2.213719</td>\n",
       "      <td>NaN</td>\n",
       "    </tr>\n",
       "    <tr>\n",
       "      <th>2</th>\n",
       "      <td>-2.335905</td>\n",
       "      <td>1.693546</td>\n",
       "      <td>NaN</td>\n",
       "    </tr>\n",
       "    <tr>\n",
       "      <th>3</th>\n",
       "      <td>-1.122500</td>\n",
       "      <td>0.850327</td>\n",
       "      <td>NaN</td>\n",
       "    </tr>\n",
       "    <tr>\n",
       "      <th>4</th>\n",
       "      <td>-1.348568</td>\n",
       "      <td>2.222672</td>\n",
       "      <td>NaN</td>\n",
       "    </tr>\n",
       "  </tbody>\n",
       "</table>\n",
       "</div>"
      ],
      "text/plain": [
       "        PC1       PC2 Date\n",
       "0 -3.940393  1.916218  NaN\n",
       "1 -3.246863  2.213719  NaN\n",
       "2 -2.335905  1.693546  NaN\n",
       "3 -1.122500  0.850327  NaN\n",
       "4 -1.348568  2.222672  NaN"
      ]
     },
     "execution_count": 26,
     "metadata": {},
     "output_type": "execute_result"
    }
   ],
   "source": [
    "projected_1 = gt_scaled.dot(vectors.T[0])\n",
    "projected_2 = gt_scaled.dot(vectors.T[1])\n",
    "res = pd.DataFrame(projected_1, columns=[\"PC1\"])\n",
    "res[\"PC2\"] = projected_2\n",
    "res[\"Date\"] = gt['dt']\n",
    "res.head()"
   ]
  },
  {
   "cell_type": "code",
   "execution_count": 35,
   "metadata": {},
   "outputs": [
    {
     "data": {
      "image/png": "[encoded data removed]",
      "text/plain": [
       "<Figure size 1440x720 with 1 Axes>"
      ]
     },
     "metadata": {
      "needs_background": "light"
     },
     "output_type": "display_data"
    }
   ],
   "source": [
    "fig = plt.figure(figsize=(20, 10))\n",
    "axes = fig.add_axes([0, 0, 1, 1])\n",
    "sns.scatterplot(res['PC1'], res['PC2'], ax = axes)\n",
    "fig.savefig('PCA_plot.png', bbox_inches = 'tight')"
   ]
  },
  {
   "cell_type": "markdown",
   "metadata": {},
   "source": [
    "## LINEAR DISCRIMINANT ANALYSIS"
   ]
  },
  {
   "cell_type": "code",
   "execution_count": 36,
   "metadata": {},
   "outputs": [],
   "source": [
    "from sklearn.model_selection import train_test_split\n",
    "from sklearn.datasets import load_iris"
   ]
  },
  {
   "cell_type": "code",
   "execution_count": 37,
   "metadata": {},
   "outputs": [],
   "source": [
    "data = load_iris()\n",
    "X, y = data.data, data.target\n",
    "X_train, X_test, Y_train, Y_test = train_test_split(X, y, test_size=0.2)"
   ]
  },
  {
   "cell_type": "code",
   "execution_count": 41,
   "metadata": {},
   "outputs": [
    {
     "name": "stdout",
     "output_type": "stream",
     "text": [
      "(4, 4)\n",
      "(150, 3)\n"
     ]
    }
   ],
   "source": [
    "height, width = X_train.shape\n",
    "unique_classes = np.unique(Y_train)\n",
    "num_classes = len(unique_classes)\n",
    "\n",
    "scatter_t = np.cov(X_train.T)*(height - 1)\n",
    "scatter_w = 0\n",
    "for i in range(num_classes):\n",
    "    class_items = np.flatnonzero(Y_train == unique_classes[i])\n",
    "    scatter_w = scatter_w + np.cov(X_train[class_items].T) * (len(class_items)-1)\n",
    "        \n",
    "scatter_b = scatter_t - scatter_w\n",
    "_, eig_vectors = np.linalg.eigh(np.linalg.pinv(scatter_w).dot(scatter_b))\n",
    "print(eig_vectors.shape)\n",
    "pc = X.dot(eig_vectors[:,::-1][:,:3])\n",
    "print(pc.shape)"
   ]
  },
  {
   "cell_type": "code",
   "execution_count": 42,
   "metadata": {},
   "outputs": [
    {
     "data": {
      "image/png": "[encoded data removed]",
      "text/plain": [
       "<Figure size 432x288 with 1 Axes>"
      ]
     },
     "metadata": {
      "needs_background": "light"
     },
     "output_type": "display_data"
    }
   ],
   "source": [
    "colors = ['r','g','b']\n",
    "labels = np.unique(y)\n",
    "for color, label in zip(colors, labels):\n",
    "    class_data = pc[np.flatnonzero(y==label)]\n",
    "    plt.scatter(class_data[:,0],class_data[:,1],c=color)"
   ]
  },
  {
   "cell_type": "markdown",
   "metadata": {},
   "source": [
    "## MULTIVARIATE LINEAR REGRESSION"
   ]
  },
  {
   "cell_type": "code",
   "execution_count": 45,
   "metadata": {},
   "outputs": [
    {
     "data": {
      "text/html": [
       "<div>\n",
       "<style scoped>\n",
       "    .dataframe tbody tr th:only-of-type {\n",
       "        vertical-align: middle;\n",
       "    }\n",
       "\n",
       "    .dataframe tbody tr th {\n",
       "        vertical-align: top;\n",
       "    }\n",
       "\n",
       "    .dataframe thead th {\n",
       "        text-align: right;\n",
       "    }\n",
       "</style>\n",
       "<table border=\"1\" class=\"dataframe\">\n",
       "  <thead>\n",
       "    <tr style=\"text-align: right;\">\n",
       "      <th></th>\n",
       "      <th>LandAverageTemperature</th>\n",
       "      <th>LandAverageTemperatureUncertainty</th>\n",
       "      <th>LandMaxTemperature</th>\n",
       "      <th>LandMaxTemperatureUncertainty</th>\n",
       "      <th>LandMinTemperature</th>\n",
       "      <th>LandMinTemperatureUncertainty</th>\n",
       "      <th>LandAndOceanAverageTemperature</th>\n",
       "      <th>LandAndOceanAverageTemperatureUncertainty</th>\n",
       "    </tr>\n",
       "  </thead>\n",
       "  <tbody>\n",
       "    <tr>\n",
       "      <th>0</th>\n",
       "      <td>1.000502</td>\n",
       "      <td>-0.143200</td>\n",
       "      <td>0.996307</td>\n",
       "      <td>-0.108517</td>\n",
       "      <td>0.996111</td>\n",
       "      <td>-0.167535</td>\n",
       "      <td>0.988562</td>\n",
       "      <td>-0.131478</td>\n",
       "    </tr>\n",
       "    <tr>\n",
       "      <th>1</th>\n",
       "      <td>-0.143200</td>\n",
       "      <td>1.000502</td>\n",
       "      <td>-0.132972</td>\n",
       "      <td>0.867379</td>\n",
       "      <td>-0.165149</td>\n",
       "      <td>0.889163</td>\n",
       "      <td>-0.208112</td>\n",
       "      <td>0.972893</td>\n",
       "    </tr>\n",
       "    <tr>\n",
       "      <th>2</th>\n",
       "      <td>0.996307</td>\n",
       "      <td>-0.132972</td>\n",
       "      <td>1.000502</td>\n",
       "      <td>-0.105402</td>\n",
       "      <td>0.993903</td>\n",
       "      <td>-0.160100</td>\n",
       "      <td>0.984349</td>\n",
       "      <td>-0.120623</td>\n",
       "    </tr>\n",
       "    <tr>\n",
       "      <th>3</th>\n",
       "      <td>-0.108517</td>\n",
       "      <td>0.867379</td>\n",
       "      <td>-0.105402</td>\n",
       "      <td>1.000502</td>\n",
       "      <td>-0.123313</td>\n",
       "      <td>0.869138</td>\n",
       "      <td>-0.163478</td>\n",
       "      <td>0.860858</td>\n",
       "    </tr>\n",
       "    <tr>\n",
       "      <th>4</th>\n",
       "      <td>0.996111</td>\n",
       "      <td>-0.165149</td>\n",
       "      <td>0.993903</td>\n",
       "      <td>-0.123313</td>\n",
       "      <td>1.000502</td>\n",
       "      <td>-0.185605</td>\n",
       "      <td>0.986898</td>\n",
       "      <td>-0.155009</td>\n",
       "    </tr>\n",
       "    <tr>\n",
       "      <th>5</th>\n",
       "      <td>-0.167535</td>\n",
       "      <td>0.889163</td>\n",
       "      <td>-0.160100</td>\n",
       "      <td>0.869138</td>\n",
       "      <td>-0.185605</td>\n",
       "      <td>1.000502</td>\n",
       "      <td>-0.221858</td>\n",
       "      <td>0.880504</td>\n",
       "    </tr>\n",
       "    <tr>\n",
       "      <th>6</th>\n",
       "      <td>0.988562</td>\n",
       "      <td>-0.208112</td>\n",
       "      <td>0.984349</td>\n",
       "      <td>-0.163478</td>\n",
       "      <td>0.986898</td>\n",
       "      <td>-0.221858</td>\n",
       "      <td>1.000502</td>\n",
       "      <td>-0.203174</td>\n",
       "    </tr>\n",
       "    <tr>\n",
       "      <th>7</th>\n",
       "      <td>-0.131478</td>\n",
       "      <td>0.972893</td>\n",
       "      <td>-0.120623</td>\n",
       "      <td>0.860858</td>\n",
       "      <td>-0.155009</td>\n",
       "      <td>0.880504</td>\n",
       "      <td>-0.203174</td>\n",
       "      <td>1.000502</td>\n",
       "    </tr>\n",
       "  </tbody>\n",
       "</table>\n",
       "</div>"
      ],
      "text/plain": [
       "   LandAverageTemperature  LandAverageTemperatureUncertainty  \\\n",
       "0                1.000502                          -0.143200   \n",
       "1               -0.143200                           1.000502   \n",
       "2                0.996307                          -0.132972   \n",
       "3               -0.108517                           0.867379   \n",
       "4                0.996111                          -0.165149   \n",
       "5               -0.167535                           0.889163   \n",
       "6                0.988562                          -0.208112   \n",
       "7               -0.131478                           0.972893   \n",
       "\n",
       "   LandMaxTemperature  LandMaxTemperatureUncertainty  LandMinTemperature  \\\n",
       "0            0.996307                      -0.108517            0.996111   \n",
       "1           -0.132972                       0.867379           -0.165149   \n",
       "2            1.000502                      -0.105402            0.993903   \n",
       "3           -0.105402                       1.000502           -0.123313   \n",
       "4            0.993903                      -0.123313            1.000502   \n",
       "5           -0.160100                       0.869138           -0.185605   \n",
       "6            0.984349                      -0.163478            0.986898   \n",
       "7           -0.120623                       0.860858           -0.155009   \n",
       "\n",
       "   LandMinTemperatureUncertainty  LandAndOceanAverageTemperature  \\\n",
       "0                      -0.167535                        0.988562   \n",
       "1                       0.889163                       -0.208112   \n",
       "2                      -0.160100                        0.984349   \n",
       "3                       0.869138                       -0.163478   \n",
       "4                      -0.185605                        0.986898   \n",
       "5                       1.000502                       -0.221858   \n",
       "6                      -0.221858                        1.000502   \n",
       "7                       0.880504                       -0.203174   \n",
       "\n",
       "   LandAndOceanAverageTemperatureUncertainty  \n",
       "0                                  -0.131478  \n",
       "1                                   0.972893  \n",
       "2                                  -0.120623  \n",
       "3                                   0.860858  \n",
       "4                                  -0.155009  \n",
       "5                                   0.880504  \n",
       "6                                  -0.203174  \n",
       "7                                   1.000502  "
      ]
     },
     "execution_count": 45,
     "metadata": {},
     "output_type": "execute_result"
    }
   ],
   "source": [
    "features = gt_sdt.T\n",
    "cov_matrix = np.cov(features)\n",
    "c = pd.DataFrame(cov_matrix)\n",
    "c.columns = columns[1:]\n",
    "c"
   ]
  },
  {
   "cell_type": "code",
   "execution_count": 51,
   "metadata": {},
   "outputs": [
    {
     "data": {
      "text/html": [
       "<div>\n",
       "<style scoped>\n",
       "    .dataframe tbody tr th:only-of-type {\n",
       "        vertical-align: middle;\n",
       "    }\n",
       "\n",
       "    .dataframe tbody tr th {\n",
       "        vertical-align: top;\n",
       "    }\n",
       "\n",
       "    .dataframe thead th {\n",
       "        text-align: right;\n",
       "    }\n",
       "</style>\n",
       "<table border=\"1\" class=\"dataframe\">\n",
       "  <thead>\n",
       "    <tr style=\"text-align: right;\">\n",
       "      <th></th>\n",
       "      <th>LandAverageTemperature</th>\n",
       "      <th>LandMaxTemperature</th>\n",
       "      <th>LandMinTemperature</th>\n",
       "      <th>LandAndOceanAverageTemperature</th>\n",
       "    </tr>\n",
       "  </thead>\n",
       "  <tbody>\n",
       "    <tr>\n",
       "      <th>1200</th>\n",
       "      <td>0.749</td>\n",
       "      <td>8.242</td>\n",
       "      <td>-3.206</td>\n",
       "      <td>12.833</td>\n",
       "    </tr>\n",
       "    <tr>\n",
       "      <th>1201</th>\n",
       "      <td>3.071</td>\n",
       "      <td>9.970</td>\n",
       "      <td>-2.291</td>\n",
       "      <td>13.588</td>\n",
       "    </tr>\n",
       "    <tr>\n",
       "      <th>1202</th>\n",
       "      <td>4.954</td>\n",
       "      <td>10.347</td>\n",
       "      <td>-1.905</td>\n",
       "      <td>14.043</td>\n",
       "    </tr>\n",
       "    <tr>\n",
       "      <th>1203</th>\n",
       "      <td>7.217</td>\n",
       "      <td>12.934</td>\n",
       "      <td>1.018</td>\n",
       "      <td>14.667</td>\n",
       "    </tr>\n",
       "    <tr>\n",
       "      <th>1204</th>\n",
       "      <td>10.004</td>\n",
       "      <td>15.655</td>\n",
       "      <td>3.811</td>\n",
       "      <td>15.507</td>\n",
       "    </tr>\n",
       "    <tr>\n",
       "      <th>...</th>\n",
       "      <td>...</td>\n",
       "      <td>...</td>\n",
       "      <td>...</td>\n",
       "      <td>...</td>\n",
       "    </tr>\n",
       "    <tr>\n",
       "      <th>3187</th>\n",
       "      <td>14.755</td>\n",
       "      <td>20.699</td>\n",
       "      <td>9.005</td>\n",
       "      <td>17.589</td>\n",
       "    </tr>\n",
       "    <tr>\n",
       "      <th>3188</th>\n",
       "      <td>12.999</td>\n",
       "      <td>18.845</td>\n",
       "      <td>7.199</td>\n",
       "      <td>17.049</td>\n",
       "    </tr>\n",
       "    <tr>\n",
       "      <th>3189</th>\n",
       "      <td>10.801</td>\n",
       "      <td>16.450</td>\n",
       "      <td>5.232</td>\n",
       "      <td>16.290</td>\n",
       "    </tr>\n",
       "    <tr>\n",
       "      <th>3190</th>\n",
       "      <td>7.433</td>\n",
       "      <td>12.892</td>\n",
       "      <td>2.157</td>\n",
       "      <td>15.252</td>\n",
       "    </tr>\n",
       "    <tr>\n",
       "      <th>3191</th>\n",
       "      <td>5.518</td>\n",
       "      <td>10.725</td>\n",
       "      <td>0.287</td>\n",
       "      <td>14.774</td>\n",
       "    </tr>\n",
       "  </tbody>\n",
       "</table>\n",
       "<p>1992 rows × 4 columns</p>\n",
       "</div>"
      ],
      "text/plain": [
       "      LandAverageTemperature  LandMaxTemperature  LandMinTemperature  \\\n",
       "1200                   0.749               8.242              -3.206   \n",
       "1201                   3.071               9.970              -2.291   \n",
       "1202                   4.954              10.347              -1.905   \n",
       "1203                   7.217              12.934               1.018   \n",
       "1204                  10.004              15.655               3.811   \n",
       "...                      ...                 ...                 ...   \n",
       "3187                  14.755              20.699               9.005   \n",
       "3188                  12.999              18.845               7.199   \n",
       "3189                  10.801              16.450               5.232   \n",
       "3190                   7.433              12.892               2.157   \n",
       "3191                   5.518              10.725               0.287   \n",
       "\n",
       "      LandAndOceanAverageTemperature  \n",
       "1200                          12.833  \n",
       "1201                          13.588  \n",
       "1202                          14.043  \n",
       "1203                          14.667  \n",
       "1204                          15.507  \n",
       "...                              ...  \n",
       "3187                          17.589  \n",
       "3188                          17.049  \n",
       "3189                          16.290  \n",
       "3190                          15.252  \n",
       "3191                          14.774  \n",
       "\n",
       "[1992 rows x 4 columns]"
      ]
     },
     "execution_count": 51,
     "metadata": {},
     "output_type": "execute_result"
    }
   ],
   "source": [
    "#How does landmaxtemtperature, landmintemperature, LandAndOceanAverageTemperature affect landAaveragetemperature?\n",
    "#Multivariate linear regression\n",
    "\n",
    "mlr = pd.DataFrame(gt[columns[1:9:2]])\n",
    "mlrcolumns = mlr.columns\n",
    "mlr"
   ]
  },
  {
   "cell_type": "code",
   "execution_count": 52,
   "metadata": {},
   "outputs": [
    {
     "data": {
      "text/plain": [
       "Index(['LandAverageTemperature', 'LandMaxTemperature', 'LandMinTemperature',\n",
       "       'LandAndOceanAverageTemperature'],\n",
       "      dtype='object')"
      ]
     },
     "execution_count": 52,
     "metadata": {},
     "output_type": "execute_result"
    }
   ],
   "source": [
    "mlrcolumns"
   ]
  },
  {
   "cell_type": "code",
   "execution_count": 59,
   "metadata": {},
   "outputs": [],
   "source": [
    "X = mlr[mlrcolumns[1:]]\n",
    "Y = mlr[mlrcolumns[0]]"
   ]
  },
  {
   "cell_type": "code",
   "execution_count": 61,
   "metadata": {},
   "outputs": [
    {
     "data": {
      "text/plain": [
       "array([[-1.41780318, -1.43198391, -1.86812372],\n",
       "       [-1.01673525, -1.21175628, -1.2753965 ],\n",
       "       [-0.92923375, -1.11885151, -0.91819002],\n",
       "       ...,\n",
       "       [ 0.48726947,  0.59892399,  0.8458604 ],\n",
       "       [-0.33854053, -0.14118526,  0.0309586 ],\n",
       "       [-0.84150014, -0.59126795, -0.34430446]])"
      ]
     },
     "execution_count": 61,
     "metadata": {},
     "output_type": "execute_result"
    }
   ],
   "source": [
    "from sklearn.preprocessing import StandardScaler\n",
    "sc = StandardScaler()\n",
    "X = sc.fit_transform(X)\n",
    "X"
   ]
  },
  {
   "cell_type": "code",
   "execution_count": 63,
   "metadata": {},
   "outputs": [],
   "source": [
    "def cost_function(X, Y, B):\n",
    "    m = len(Y)\n",
    "    J = np.sum((X.dot(B) - Y) ** 2)/(2 * m)\n",
    "    return J"
   ]
  },
  {
   "cell_type": "code",
   "execution_count": 67,
   "metadata": {},
   "outputs": [],
   "source": [
    "def batch_gradient_descent(X, Y, B, alpha, iterations):\n",
    "    cost_history = [0] * iterations\n",
    "    m = len(Y)\n",
    "\n",
    "    for iteration in range(iterations):\n",
    "         #print(iteration)\n",
    "         # Hypothesis Values\n",
    "        h = X.dot(B)\n",
    "         # Difference b/w Hypothesis and Actual Y\n",
    "        loss = h - Y\n",
    "         # Gradient Calculation\n",
    "        gradient = X.T.dot(loss) / m\n",
    "         # Changing Values of B using Gradient\n",
    "        B = B - alpha * gradient\n",
    "         # New Cost Value\n",
    "        cost = cost_function(X, Y, B)\n",
    "        cost_history[iteration] = cost\n",
    "\n",
    "    return B, cost_history"
   ]
  },
  {
   "cell_type": "code",
   "execution_count": 103,
   "metadata": {},
   "outputs": [],
   "source": [
    "m = 1500\n",
    "f = 3\n",
    "X_train = X[:m,:f]\n",
    "X_train = np.c_[np.ones(len(X_train),dtype='int64'),X_train]\n",
    "y_train = y[:m]\n",
    "X_test = X[m:,:f]\n",
    "X_test = np.c_[np.ones(len(X_test),dtype='int64'),X_test]\n",
    "y_test = y[m:]\n",
    "# X_train"
   ]
  },
  {
   "cell_type": "code",
   "execution_count": 104,
   "metadata": {},
   "outputs": [],
   "source": [
    "# Initial Coefficients\n",
    "B = np.zeros(X_train.shape[1])\n",
    "alpha = 0.005\n",
    "iter_ = 2000\n",
    "newB, cost_history = batch_gradient_descent(X_train, y_train, B, alpha, iter_)"
   ]
  },
  {
   "cell_type": "code",
   "execution_count": 105,
   "metadata": {},
   "outputs": [
    {
     "data": {
      "text/plain": [
       "array([[ 8.65240413, -2.2673518 , -1.78132691, -1.4350217 ],\n",
       "       [ 8.65240413, -2.05787707, -1.72397502, -1.22223431],\n",
       "       [ 8.65240413, -1.14654602, -1.03076513, -0.60821647],\n",
       "       ...,\n",
       "       [ 8.65240413,  0.81138574,  0.88642687,  0.97145939],\n",
       "       [ 8.65240413, -0.56372701, -0.20895875,  0.03555554],\n",
       "       [ 8.65240413, -1.40123947, -0.87509569, -0.39542908]])"
      ]
     },
     "execution_count": 105,
     "metadata": {},
     "output_type": "execute_result"
    }
   ],
   "source": [
    "# y_ = pred(X_test,newB)\n",
    "y_ = (X_test)*(newB)\n",
    "y_"
   ]
  },
  {
   "cell_type": "code",
   "execution_count": 106,
   "metadata": {},
   "outputs": [],
   "source": [
    "y_ = np.sum(y_, axis = 1)"
   ]
  },
  {
   "cell_type": "code",
   "execution_count": 107,
   "metadata": {},
   "outputs": [],
   "source": [
    "def r2(y_,y):\n",
    "    sst = np.sum((y-y.mean())**2)\n",
    "    ssr = np.sum((y_-y)**2)\n",
    "    r2 = 1-(ssr/sst)\n",
    "    return(r2)"
   ]
  },
  {
   "cell_type": "code",
   "execution_count": 102,
   "metadata": {},
   "outputs": [
    {
     "data": {
      "text/plain": [
       "0.9940195657979105"
      ]
     },
     "execution_count": 102,
     "metadata": {},
     "output_type": "execute_result"
    }
   ],
   "source": [
    "r2(y_, y_test) #99% accuracy is pretty good"
   ]
  },
  {
   "cell_type": "code",
   "execution_count": null,
   "metadata": {},
   "outputs": [],
   "source": []
  }
 ],
 "metadata": {
  "kernelspec": {
   "display_name": "Python 3",
   "language": "python",
   "name": "python3"
  },
  "language_info": {
   "codemirror_mode": {
    "name": "ipython",
    "version": 3
   },
   "file_extension": ".py",
   "mimetype": "text/x-python",
   "name": "python",
   "nbconvert_exporter": "python",
   "pygments_lexer": "ipython3",
   "version": "3.7.6"
  }
 },
 "nbformat": 4,
 "nbformat_minor": 4
}
